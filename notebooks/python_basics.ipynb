{
 "cells": [
  {
   "cell_type": "markdown",
   "metadata": {},
   "source": [
    "# Introduction to Object Oriented Programming in Python"
   ]
  },
  {
   "cell_type": "markdown",
   "metadata": {},
   "source": [
    "We will first review some of the topics from the previous session:\n",
    "- basic data types\n",
    "- containers\n",
    "- built-in functions\n",
    "- packages and modules\n",
    "\n",
    "At the end of this session you will be able to answer the following questions:\n",
    "- What is object oriented programming (OOP)?\n",
    "- Why do we practice OOP?\n",
    "- What is class and what is object?\n",
    "- What are the attributes and behaviours of the class or object?\n",
    "- What is inheritance and why do we use it?"
   ]
  },
  {
   "cell_type": "markdown",
   "metadata": {},
   "source": [
    "# Data Types"
   ]
  },
  {
   "cell_type": "markdown",
   "metadata": {},
   "source": [
    "### Built-in data types:  \n",
    "The most common ones are <br/>\n",
    "**Boolean**: bool <br/>\n",
    "**Number**: int, float, complex <br/>\n",
    "**String**: str  <br/>\n",
    "**Byte**: Will not be covered here <br/>\n"
   ]
  },
  {
   "cell_type": "code",
   "execution_count": null,
   "metadata": {},
   "outputs": [],
   "source": [
    "b = True\n",
    "i = 10\n",
    "f = 10.5\n",
    "s = 'string'\n",
    "comp = 2 + 3j\n",
    "print('type(b) = {}\\ntype(i) = {}\\ntype(f) = {}\\n'.format(type(b),type(i),type(f)) + \n",
    "      'type(s) = {}\\ntype(comp) = {}'.format(type(s), type(comp)))"
   ]
  },
  {
   "cell_type": "markdown",
   "metadata": {},
   "source": [
    "Python is a **dynamically-typed** language"
   ]
  },
  {
   "cell_type": "code",
   "execution_count": null,
   "metadata": {},
   "outputs": [],
   "source": [
    "my_var = 10\n",
    "print(type(my_var))\n",
    "my_var = 'this is a new string'\n",
    "print(type(my_var))"
   ]
  },
  {
   "cell_type": "markdown",
   "metadata": {},
   "source": [
    "### Built-in containers:\n",
    "**List**: list <br/>\n",
    "**Dictionary**: dict <br/>\n",
    "**Tuple**: tuple <br/>\n",
    "**Set**: set <br/>\n",
    "### Other important containers\n",
    "**Numpy Array**: numpy.array <br/>\n",
    "**Fraction**: fraction.Fraction"
   ]
  },
  {
   "cell_type": "code",
   "execution_count": null,
   "metadata": {},
   "outputs": [],
   "source": [
    "#list\n",
    "my_list = [1,2,3, 4, 5, 6, 7]\n",
    "print(my_list)\n",
    "print(my_list[0])\n",
    "print(my_list[0:3])\n",
    "print(my_list[-1])\n",
    "print(my_list[-2])\n",
    "print(my_list[-3:])\n",
    "\n",
    "my_list.append(10)\n",
    "print(my_list)\n",
    "my_list.remove(4)\n",
    "print(my_list)\n",
    "\n",
    "my_list += [123] # my_list = my_list + [123]\n",
    "print(my_list)"
   ]
  },
  {
   "cell_type": "code",
   "execution_count": null,
   "metadata": {},
   "outputs": [],
   "source": [
    "my_complex_list = ['string', 123, 2.0, True, 'another string']\n",
    "print(my_complex_list)\n",
    "\n",
    "my_complex_list.reverse()\n",
    "print(my_complex_list)"
   ]
  },
  {
   "cell_type": "code",
   "execution_count": null,
   "metadata": {},
   "outputs": [],
   "source": [
    "print('Length of list: ', len(my_complex_list))"
   ]
  },
  {
   "cell_type": "code",
   "execution_count": null,
   "metadata": {},
   "outputs": [],
   "source": [
    "#dict\n",
    "#map\n",
    "my_dict = {'my_key': 'my_val', \n",
    "          'sara': 123,\n",
    "          'clara': 19,\n",
    "          'jes': 15}\n",
    "\n",
    "print(my_dict['my_key'])\n",
    "print('score of sara is :', my_dict['sara'])"
   ]
  },
  {
   "cell_type": "markdown",
   "metadata": {},
   "source": [
    "#### Exercise"
   ]
  },
  {
   "cell_type": "code",
   "execution_count": null,
   "metadata": {
    "collapsed": true
   },
   "outputs": [],
   "source": [
    "nums = list(range(0,45,3)) # [0, 3, 6, 9, 12, 15, 18, 21, 24, 27, 30, 33, 36, 39, 42]\n",
    "\n",
    "last_number = nums[-1]\n",
    "before_last_number = nums[-2]\n",
    "first_five_numbers = nums[:5]\n",
    "last_three_numbers = nums[-3:]\n",
    "third_to_sixth_numbers = nums[3:6] # inclusive on both ends\n",
    "\n",
    "reversed_numbers = nums # you might need to do this in two steps\n",
    "reversed_numbers.reverse()\n",
    "\n",
    "# The following are to test your results\n",
    "assert(last_number == 42)\n",
    "assert(before_last_number == 39)\n",
    "assert(first_five_numbers == [0, 3, 6, 9, 12])\n",
    "assert(last_three_numbers == [36, 39, 42])\n",
    "assert(third_to_sixth_numbers == [9, 12, 15])\n",
    "assert(reversed_numbers == [42, 39, 36, 33, 30, 27, 24, 21, 18, 15, 12, 9, 6, 3, 0])"
   ]
  },
  {
   "cell_type": "markdown",
   "metadata": {},
   "source": [
    "### Built-in functions\n",
    "**Math f.**: min, max, round, abs, pow <br/>\n",
    "**Handy f.**: type, print, input <br/>\n",
    "**Container f.**: len, all, any <br/>\n",
    "**File f.**: open <br/>\n",
    "<p class=\"alert alert-info\">\n",
    "**Class f.**: vars, dir, super <br/>\n",
    "**Lambda f.**: map, filter, reduce\n",
    "</p>"
   ]
  },
  {
   "cell_type": "code",
   "execution_count": null,
   "metadata": {},
   "outputs": [],
   "source": [
    "# some built-in functions\n",
    "nums = list(range(0,45,3)) # [0, 3, 6, 9, 12, 15, 18, 21, 24, 27, 30, 33, 36, 39, 42]\n",
    "print(max(nums))\n",
    "print(pow(2,5))\n",
    "print(type(nums))\n",
    "print(len(nums))"
   ]
  },
  {
   "cell_type": "markdown",
   "metadata": {},
   "source": [
    "### Basic file operations\n",
    "**Built-in function**: open <br/>\n",
    "**methods**: close, write, tell, seek"
   ]
  },
  {
   "cell_type": "code",
   "execution_count": null,
   "metadata": {
    "collapsed": true
   },
   "outputs": [],
   "source": [
    "#open and close\n",
    "# modes of opening the file: w, r, a [w+, r+, a+]\n",
    "# modes of opening the file: wb, rb, ab \n",
    "f = open('test_file.txt', 'w')\n",
    "f.write('this is a simple text\\n')\n",
    "f.write('this is a simple text\\n')\n",
    "f.write('this is a simple text\\n')\n",
    "f.close()"
   ]
  },
  {
   "cell_type": "code",
   "execution_count": null,
   "metadata": {
    "collapsed": true
   },
   "outputs": [],
   "source": [
    "#append\n",
    "f = open('test_file.txt', 'a')\n",
    "f.write('appending new text\\n')\n",
    "f.close()"
   ]
  },
  {
   "cell_type": "code",
   "execution_count": null,
   "metadata": {
    "collapsed": true
   },
   "outputs": [],
   "source": [
    "#writing to beginning of the file using seek\n",
    "f = open('test_file.txt', 'r+')\n",
    "f.seek(0,0)\n",
    "f.write('NEW TEXT')\n",
    "f.close()"
   ]
  },
  {
   "cell_type": "markdown",
   "metadata": {},
   "source": [
    "In text files (those opened without `b` in the mode string), only seeks relative to the beginning of the file are allowed (the exception being seeking to the very file end with seek(0, 2))."
   ]
  },
  {
   "cell_type": "markdown",
   "metadata": {},
   "source": [
    "### Method\n",
    "A method is a function that is available for a given object depending on the object’s type."
   ]
  },
  {
   "cell_type": "markdown",
   "metadata": {},
   "source": [
    "Methods of the string class"
   ]
  },
  {
   "cell_type": "code",
   "execution_count": null,
   "metadata": {},
   "outputs": [],
   "source": [
    "#multiline string\n",
    "my_string = '''this is a multiline string\n",
    "you gotta believe it'''\n",
    "print(my_string.upper())\n",
    "print(my_string.lower())\n",
    "print(my_string.replace('i', '*'))"
   ]
  },
  {
   "cell_type": "code",
   "execution_count": null,
   "metadata": {},
   "outputs": [],
   "source": [
    "# if you want to change the string itself\n",
    "my_string = '''this is a multiline string\n",
    "you gotta believe it'''\n",
    "print('String before change:\\n', my_string)\n",
    "print('\\n')\n",
    "my_string = my_string.upper()\n",
    "print('String after change:\\n', my_string)"
   ]
  },
  {
   "cell_type": "markdown",
   "metadata": {},
   "source": [
    "Methods of the list class"
   ]
  },
  {
   "cell_type": "code",
   "execution_count": null,
   "metadata": {
    "scrolled": true
   },
   "outputs": [],
   "source": [
    "nums = list(range(0,45,3)) # [0, 3, 6, 9, 12, 15, 18, 21, 24, 27, 30, 33, 36, 39, 42]\n",
    "nums.reverse()\n",
    "print(nums)"
   ]
  },
  {
   "cell_type": "markdown",
   "metadata": {},
   "source": [
    "### Packages and Modules\n",
    "**Module**: A module is a file containing Python definitions and statements. Modules specify functions, methods and new Python types which solved particular problems. <br/>\n",
    "**Package**: A package is a collection of modules.\n",
    "<br/>\n",
    "Important data science packages of Python: \n",
    "- NumPy (http://www.numpy.org/)\n",
    "\n",
    "<div class=\"alert alert-info\"> \n",
    "- Pandas (https://pandas.pydata.org/) <br/>\n",
    "- scikit-learn (http://scikit-learn.org)<br/>\n",
    "- Matplotlib (https://matplotlib.org/) *--> visualization*<br/>\n",
    "- seaborn (https://seaborn.pydata.org/) *--> visualization*<br/>\n",
    "- SciPy (https://docs.scipy.org/doc/scipy/reference/tutorial/)<br/>\n",
    "\n",
    "</div>"
   ]
  },
  {
   "cell_type": "markdown",
   "metadata": {},
   "source": [
    "#### How to install packages?\n",
    "`pip   install package_name\n",
    "pip3  install package_name\n",
    "conda install package_name` (https://www.anaconda.com/)"
   ]
  },
  {
   "cell_type": "markdown",
   "metadata": {},
   "source": [
    "import packages\n"
   ]
  },
  {
   "cell_type": "code",
   "execution_count": null,
   "metadata": {},
   "outputs": [],
   "source": [
    "import numpy as np\n",
    "my_array = np.array([1,2,3,43,54])"
   ]
  },
  {
   "cell_type": "markdown",
   "metadata": {
    "collapsed": true
   },
   "source": [
    "Let's play around with numpy"
   ]
  },
  {
   "cell_type": "code",
   "execution_count": null,
   "metadata": {},
   "outputs": [],
   "source": [
    "#define\n",
    "arr = np.array([1,2,32,4,54,5,6,5])\n",
    "print(arr)\n",
    "#broadcast\n",
    "arr = arr + 10\n",
    "print(arr)\n",
    "arr *= 5          # this is equivalent to      arr = arr * 5\n",
    "print(arr)\n"
   ]
  },
  {
   "cell_type": "code",
   "execution_count": null,
   "metadata": {},
   "outputs": [],
   "source": [
    "#dot multiplications\n",
    "arr_2d_1 = np.arange(20).reshape(4,5)\n",
    "print(arr_2d_1)\n",
    "arr_2d_2 = np.arange(10).reshape(5,2)\n",
    "print(arr_2d_2)\n",
    "print(np.dot(arr_2d_1, arr_2d_2))"
   ]
  },
  {
   "cell_type": "code",
   "execution_count": null,
   "metadata": {},
   "outputs": [],
   "source": [
    "# other methods of numpy\n",
    "print(arr_2d_1)\n",
    "print(np.std(arr_2d_1))\n",
    "print(np.sum(arr_2d_1))\n",
    "print(np.sum(arr_2d_1, axis=1))"
   ]
  },
  {
   "cell_type": "markdown",
   "metadata": {},
   "source": [
    "What are the differences between **numpy.array** and **list**?"
   ]
  },
  {
   "cell_type": "markdown",
   "metadata": {},
   "source": [
    "1- list can hold anything; nparray can only hold objects of the same type <br/>\n",
    "2- nparray you cannot have different dimensions per rows <br/>\n",
    "[3- the memory where items of an ndarray are stored is continuous; as opposed to list] <br/>\n",
    "4- nparrays are faster!"
   ]
  },
  {
   "cell_type": "code",
   "execution_count": null,
   "metadata": {},
   "outputs": [],
   "source": [
    "my_list = [[1, 2, 'word', True, 5, 10],[1,2,3]]\n",
    "my_nparray = np.array([[1,2],[4,4]])\n",
    "print(my_list)\n",
    "print(my_nparray)"
   ]
  },
  {
   "cell_type": "markdown",
   "metadata": {},
   "source": [
    "#### Exercise"
   ]
  },
  {
   "cell_type": "code",
   "execution_count": null,
   "metadata": {
    "collapsed": true,
    "scrolled": true
   },
   "outputs": [],
   "source": [
    "nums = np.arange(8).reshape((2,4)) # array([[0, 1, 2, 3], [4, 5, 6, 7]])\n",
    "# nums = np.arange(8)\n",
    "# num = nums.reshape((2,4))\n",
    "\n",
    "numbers_divided_by_two = nums / 2 # Divide all numbers of 2\n",
    "numbers_plus_five = nums + 5 # Add 5 to each number\n",
    "# np.append\n",
    "extended_array = np.append(nums, [[0,0,0,0]], axis=0) # extend the array to have a new row with values [0,0,0,0]\n",
    "\n",
    "# Ignore the following. It is testing your results\n",
    "from nose.tools import assert_sequence_equal\n",
    "np.testing.assert_array_equal([[0. , 0.5, 1. , 1.5],[2. , 2.5, 3. , 3.5]], numbers_divided_by_two)\n",
    "np.testing.assert_array_equal([[ 5,  6,  7,  8],[ 9, 10, 11, 12]], numbers_plus_five)\n",
    "np.testing.assert_array_equal(np.array([[0, 1, 2, 3],[4, 5, 6, 7], [0, 0, 0, 0]]), extended_array)"
   ]
  },
  {
   "cell_type": "markdown",
   "metadata": {},
   "source": [
    "#### Functions in python"
   ]
  },
  {
   "cell_type": "code",
   "execution_count": null,
   "metadata": {},
   "outputs": [],
   "source": [
    "def my_function(name):\n",
    "    print('this is a function whose name is {} and age is {}'.format(name, 25))\n",
    "\n",
    "my_function('test')\n",
    "my_function('new_name')"
   ]
  },
  {
   "cell_type": "markdown",
   "metadata": {},
   "source": [
    "# Object Oriented Programming (OOP)\n"
   ]
  },
  {
   "cell_type": "markdown",
   "metadata": {},
   "source": [
    "<div class=\"alert alert-info\">\n",
    "\n",
    "Regardless of the programming language, there are 4 main concepts to master in OOP: <br/>\n",
    "\n",
    "- Encapsulation <br/>\n",
    "- Data Abstraction<br/>\n",
    "- Polymorphism<br/>\n",
    "- Inheritance<br/>\n",
    "\n",
    "</div>"
   ]
  },
  {
   "cell_type": "markdown",
   "metadata": {},
   "source": [
    "A class contains fields (attributes), properties and methods."
   ]
  },
  {
   "attachments": {
    "image.png": {
     "image/png": "[encoded data removed]"
    }
   },
   "cell_type": "markdown",
   "metadata": {},
   "source": [
    "![image.png](attachment:image.png)"
   ]
  },
  {
   "cell_type": "markdown",
   "metadata": {},
   "source": [
    "- specifications: what a class does\n",
    "- implementation: how it does it"
   ]
  },
  {
   "cell_type": "markdown",
   "metadata": {},
   "source": [
    "### Class"
   ]
  },
  {
   "cell_type": "code",
   "execution_count": null,
   "metadata": {},
   "outputs": [],
   "source": [
    "class Person:\n",
    "    def __init__(self, name, my_age):\n",
    "        print('New object of class Person is created')\n",
    "        self.name = name\n",
    "        self.age = my_age        \n",
    "    \n",
    "    def talk(self):\n",
    "        self.print_something('This person\\'s name is: ' + self.name)\n",
    "        \n",
    "    def talk_loud(self):\n",
    "        self.print_something(('This person\\'s name is: ' + self.name).upper())\n",
    "        \n",
    "    def break_the_leg(self):\n",
    "        print('my leg is now broken')\n",
    "        \n",
    "    def print_something(self, something):\n",
    "        print(something)\n",
    "\n",
    "person1 = Person('Sara', 25)\n",
    "person2 = Person('Peter', 30)\n",
    "\n",
    "person1.talk()\n",
    "person1.talk_loud()\n",
    "person2.talk()\n",
    "\n",
    "print('name of person1 is ', person1.name)\n",
    "print('name of person2 is ', person2.name)\n",
    "\n",
    "print('person1 age: ', person1.age)\n",
    "person1.age = 35\n",
    "print('person1 age: ', person1.age)"
   ]
  },
  {
   "cell_type": "markdown",
   "metadata": {},
   "source": [
    "### Inheritance"
   ]
  },
  {
   "cell_type": "markdown",
   "metadata": {},
   "source": [
    "Classes can inherit other classes. <br/>\n",
    "A class can inherit fields (attributes) and methods (behaviours) from other classes \n",
    "The child class is called a sub-class andcalled super-classes."
   ]
  },
  {
   "attachments": {
    "image.png": {
     "image/png": "[encoded data removed]"
    }
   },
   "cell_type": "markdown",
   "metadata": {},
   "source": [
    "![image.png](attachment:image.png)"
   ]
  },
  {
   "cell_type": "code",
   "execution_count": null,
   "metadata": {},
   "outputs": [],
   "source": [
    "class Person:\n",
    "    def __init__(self, name, my_age):\n",
    "        print('New object of class Person is created')\n",
    "        self.name = name\n",
    "        self.age = my_age        \n",
    "    def talk(self):\n",
    "        print('This person\\'s name is: ' + self.name)        \n",
    "    \n",
    "class Personnel(Person):\n",
    "    def __init__(self, _name, _my_age, _p_id, _salary):\n",
    "        super().__init__(_name, _my_age)        \n",
    "        self.p_id = _p_id\n",
    "        self.salary = _salary\n",
    "\n",
    "class Student(Person):\n",
    "    def __init__(self, _name, _my_age, _std_id):\n",
    "        super().__init__(_name, _my_age)\n",
    "        self.std_id = _std_id        \n",
    "        self.courses = []\n",
    "        \n",
    "    def take_course(self, course):\n",
    "        self.courses.append(course)\n",
    "        \n",
    "    def get_courses(self):\n",
    "        print('my courses: ', self.courses)\n",
    "        \n",
    "p1 = Personnel('maryam', 23, 14324, 60000)\n",
    "p1.talk()\n",
    "s1 = Student('Farhad', 30, 442545)\n",
    "s1.talk()\n",
    "s1.get_courses()\n",
    "s1.take_course('biology')\n",
    "s1.get_courses()\n",
    "s1.take_course(['programming', 'zoology']) \n",
    "s1.get_courses()"
   ]
  },
  {
   "cell_type": "markdown",
   "metadata": {},
   "source": [
    "#### Exercise"
   ]
  },
  {
   "cell_type": "markdown",
   "metadata": {},
   "source": [
    "Create a class called **`MyNumber`** with the following fields and methods:\n",
    "- Fields: \n",
    " - `_value`, \n",
    " - `_name`\n",
    "- Methods: \n",
    " - constructor to set the `_value` and `_name`\n",
    " - get_value(): returns `_value`\n",
    " - set_value(new_value): sets `_value` to `new_value`\n",
    " - set_name(new_name): sets `_name` to `new_name`\n",
    " - get_name(): returns `_name`\n",
    " - tell(): prints the value of this number and its name\n",
    " - mult(another_number): multiplies `_value` with `another_number._value` and stores the result in `_value`\n",
    " \n",
    "Create another class called **`MyFraction`** which inherits from **`MyNumber`**. It has the following fields and methods: \n",
    "- Fields: \n",
    " - `_denom`\n",
    "- Methods: \n",
    " - constructor to set `_value`, `_denom`, and `_name`\n",
    " - get_float(): returns `_value/_denom`\n",
    " - set_values(new_value, new_denom): sets the new values for `_value` and `_denom`\n",
    " - tell(): prints the value of this number and its name\n",
    " \n",
    " \n",
    " ### Don't implement the `mult` method for **`MyFraction`** <br/> <br/>\n",
    " Your classes should be able to handle the following code block:"
   ]
  },
  {
   "cell_type": "code",
   "execution_count": null,
   "metadata": {
    "collapsed": true
   },
   "outputs": [],
   "source": [
    "class MyNumber:\n",
    "    def __init__(self, value, name='NoName'):\n",
    "        pass\n",
    "    \n",
    "    def tell(self):\n",
    "        print('Value of {} is {}'.format(self._name, self._value))\n",
    "        \n",
    "    #mult method\n",
    "    #code start\n",
    "    \n",
    "    #code end\n",
    "        \n",
    "class MyFraction(MyNumber):\n",
    "    def __init__(self, value, denom, name=None):\n",
    "        pass\n",
    "    \n",
    "    def tell(self):\n",
    "        pass                  "
   ]
  },
  {
   "cell_type": "code",
   "execution_count": null,
   "metadata": {
    "collapsed": true
   },
   "outputs": [],
   "source": [
    "num1 = MyNumber(10, 'num1')\n",
    "num2 = MyNumber(20, 'num2')\n",
    "num1.tell()\n",
    "num1.mult(num2).tell()\n",
    "\n",
    "frac1 = MyFraction(10, 5, 'frac1')\n",
    "frac1.tell()\n",
    "frac1.mult(num1)\n",
    "frac1.tell()"
   ]
  }
 ],
 "metadata": {
  "kernelspec": {
   "display_name": "Python 3",
   "language": "python",
   "name": "python3"
  },
  "language_info": {
   "codemirror_mode": {
    "name": "ipython",
    "version": 3
   },
   "file_extension": ".py",
   "mimetype": "text/x-python",
   "name": "python",
   "nbconvert_exporter": "python",
   "pygments_lexer": "ipython3",
   "version": "3.5.0"
  }
 },
 "nbformat": 4,
 "nbformat_minor": 2
}
